{
 "cells": [
  {
   "cell_type": "code",
   "execution_count": 1,
   "metadata": {},
   "outputs": [],
   "source": [
    "# import dependencies\n",
    "import pandas as pd"
   ]
  },
  {
   "cell_type": "code",
   "execution_count": 2,
   "metadata": {},
   "outputs": [],
   "source": [
    "# create list of years for which data is available\n",
    "years = [year for year in range(2009,2019)]\n",
    "\n",
    "# initialize a dictionary to store bridge condition data tables\n",
    "bridge_dict = {}\n",
    "\n",
    "# use for loop to append data tables to dictionary\n",
    "for year in years:\n",
    "    csv_path = f\"bridge/condition_by-hwy-sys_{year}.csv\"\n",
    "    table = pd.read_csv(csv_path)\n",
    "    table[\"Year\"] = year\n",
    "    bridge_dict[year] = table"
   ]
  },
  {
   "cell_type": "code",
   "execution_count": 3,
   "metadata": {},
   "outputs": [
    {
     "data": {
      "text/plain": [
       "dict_keys([2009, 2010, 2011, 2012, 2013, 2014, 2015, 2016, 2017, 2018])"
      ]
     },
     "execution_count": 3,
     "metadata": {},
     "output_type": "execute_result"
    }
   ],
   "source": [
    "# confirm that tables were appended to dictionary\n",
    "bridge_dict.keys()"
   ]
  },
  {
   "cell_type": "code",
   "execution_count": 4,
   "metadata": {},
   "outputs": [
    {
     "data": {
      "text/html": [
       "<div>\n",
       "<style scoped>\n",
       "    .dataframe tbody tr th:only-of-type {\n",
       "        vertical-align: middle;\n",
       "    }\n",
       "\n",
       "    .dataframe tbody tr th {\n",
       "        vertical-align: top;\n",
       "    }\n",
       "\n",
       "    .dataframe thead th {\n",
       "        text-align: right;\n",
       "    }\n",
       "</style>\n",
       "<table border=\"1\" class=\"dataframe\">\n",
       "  <thead>\n",
       "    <tr style=\"text-align: right;\">\n",
       "      <th></th>\n",
       "      <th>ID</th>\n",
       "      <th>Year</th>\n",
       "      <th>State</th>\n",
       "      <th>Count_All</th>\n",
       "      <th>Count_Good</th>\n",
       "      <th>Count_Fair</th>\n",
       "      <th>Count_Poor</th>\n",
       "      <th>Area_All</th>\n",
       "      <th>Area_Good</th>\n",
       "      <th>Area_Fair</th>\n",
       "      <th>Area_Poor</th>\n",
       "    </tr>\n",
       "  </thead>\n",
       "  <tbody>\n",
       "    <tr>\n",
       "      <th>0</th>\n",
       "      <td>1</td>\n",
       "      <td>2009</td>\n",
       "      <td>ALABAMA</td>\n",
       "      <td>15,959</td>\n",
       "      <td>7,637</td>\n",
       "      <td>7,384</td>\n",
       "      <td>934</td>\n",
       "      <td>9,176,079</td>\n",
       "      <td>3,991,613</td>\n",
       "      <td>4,892,783</td>\n",
       "      <td>290,431</td>\n",
       "    </tr>\n",
       "    <tr>\n",
       "      <th>1</th>\n",
       "      <td>2</td>\n",
       "      <td>2009</td>\n",
       "      <td>ALASKA</td>\n",
       "      <td>1,151</td>\n",
       "      <td>518</td>\n",
       "      <td>496</td>\n",
       "      <td>135</td>\n",
       "      <td>657,173</td>\n",
       "      <td>284,249</td>\n",
       "      <td>314,174</td>\n",
       "      <td>58,564</td>\n",
       "    </tr>\n",
       "    <tr>\n",
       "      <th>2</th>\n",
       "      <td>3</td>\n",
       "      <td>2009</td>\n",
       "      <td>ARIZONA</td>\n",
       "      <td>7,494</td>\n",
       "      <td>5,274</td>\n",
       "      <td>2,030</td>\n",
       "      <td>189</td>\n",
       "      <td>4,685,761</td>\n",
       "      <td>2,826,369</td>\n",
       "      <td>1,697,404</td>\n",
       "      <td>161,735</td>\n",
       "    </tr>\n",
       "    <tr>\n",
       "      <th>3</th>\n",
       "      <td>4</td>\n",
       "      <td>2009</td>\n",
       "      <td>ARKANSAS</td>\n",
       "      <td>12,560</td>\n",
       "      <td>7,113</td>\n",
       "      <td>4,809</td>\n",
       "      <td>638</td>\n",
       "      <td>5,927,762</td>\n",
       "      <td>3,211,634</td>\n",
       "      <td>2,353,584</td>\n",
       "      <td>362,545</td>\n",
       "    </tr>\n",
       "    <tr>\n",
       "      <th>4</th>\n",
       "      <td>5</td>\n",
       "      <td>2009</td>\n",
       "      <td>CALIFORNIA</td>\n",
       "      <td>24,463</td>\n",
       "      <td>10,275</td>\n",
       "      <td>10,833</td>\n",
       "      <td>3,258</td>\n",
       "      <td>27,743,006</td>\n",
       "      <td>8,596,833</td>\n",
       "      <td>13,556,904</td>\n",
       "      <td>5,550,592</td>\n",
       "    </tr>\n",
       "  </tbody>\n",
       "</table>\n",
       "</div>"
      ],
      "text/plain": [
       "   ID  Year       State Count_All Count_Good Count_Fair Count_Poor  \\\n",
       "0   1  2009     ALABAMA    15,959      7,637      7,384        934   \n",
       "1   2  2009      ALASKA     1,151        518        496        135   \n",
       "2   3  2009     ARIZONA     7,494      5,274      2,030        189   \n",
       "3   4  2009    ARKANSAS    12,560      7,113      4,809        638   \n",
       "4   5  2009  CALIFORNIA    24,463     10,275     10,833      3,258   \n",
       "\n",
       "     Area_All  Area_Good   Area_Fair  Area_Poor  \n",
       "0   9,176,079  3,991,613   4,892,783    290,431  \n",
       "1     657,173    284,249     314,174     58,564  \n",
       "2   4,685,761  2,826,369   1,697,404    161,735  \n",
       "3   5,927,762  3,211,634   2,353,584    362,545  \n",
       "4  27,743,006  8,596,833  13,556,904  5,550,592  "
      ]
     },
     "execution_count": 4,
     "metadata": {},
     "output_type": "execute_result"
    }
   ],
   "source": [
    "# use for loop to create single dataframe with information for all years\n",
    "for i in range(0,len(years)):\n",
    "    if i == 0:\n",
    "        combined_table = bridge_dict[years[i]]\n",
    "    else:\n",
    "        combined_table = combined_table.append(bridge_dict[years[i]])\n",
    "\n",
    "# add column to resulting dataframe for use as primary key in SQL database and sort columns\n",
    "# combined_table = combined_table.sort_values(by=[\"Year\",\"State\"]) \n",
    "combined_table = combined_table.reset_index()\n",
    "combined_table[\"index\"] = combined_table[\"index\"] + 1\n",
    "combined_table = combined_table.rename(columns={\"index\":\"ID\"})\n",
    "combined_table = combined_table[[\"ID\",\n",
    "                                 \"Year\",\n",
    "                                 \"State\",\n",
    "                                 \"Count_All\",\n",
    "                                 \"Count_Good\",\n",
    "                                 \"Count_Fair\",\n",
    "                                 \"Count_Poor\",\n",
    "                                 \"Area_All\",\n",
    "                                 \"Area_Good\",\n",
    "                                 \"Area_Fair\",\n",
    "                                 \"Area_Poor\"]]\n",
    "combined_table.head()"
   ]
  },
  {
   "cell_type": "code",
   "execution_count": null,
   "metadata": {},
   "outputs": [],
   "source": []
  },
  {
   "cell_type": "code",
   "execution_count": 5,
   "metadata": {},
   "outputs": [],
   "source": [
    "# export dataframe as a csv file\n",
    "combined_table.to_csv(\"bridge/condition_by-hwy-sys_all.csv\", index=False)"
   ]
  }
 ],
 "metadata": {
  "kernelspec": {
   "display_name": "Python 3",
   "language": "python",
   "name": "python3"
  },
  "language_info": {
   "codemirror_mode": {
    "name": "ipython",
    "version": 3
   },
   "file_extension": ".py",
   "mimetype": "text/x-python",
   "name": "python",
   "nbconvert_exporter": "python",
   "pygments_lexer": "ipython3",
   "version": "3.7.3"
  }
 },
 "nbformat": 4,
 "nbformat_minor": 2
}
