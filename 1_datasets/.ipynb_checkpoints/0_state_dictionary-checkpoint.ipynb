{
 "cells": [
  {
   "cell_type": "code",
   "execution_count": 1,
   "metadata": {},
   "outputs": [],
   "source": [
    "# import dependencies\n",
    "import pandas as pd\n",
    "import numpy as np"
   ]
  },
  {
   "cell_type": "code",
   "execution_count": 2,
   "metadata": {},
   "outputs": [
    {
     "data": {
      "text/html": [
       "<div>\n",
       "<style scoped>\n",
       "    .dataframe tbody tr th:only-of-type {\n",
       "        vertical-align: middle;\n",
       "    }\n",
       "\n",
       "    .dataframe tbody tr th {\n",
       "        vertical-align: top;\n",
       "    }\n",
       "\n",
       "    .dataframe thead th {\n",
       "        text-align: right;\n",
       "    }\n",
       "</style>\n",
       "<table border=\"1\" class=\"dataframe\">\n",
       "  <thead>\n",
       "    <tr style=\"text-align: right;\">\n",
       "      <th></th>\n",
       "      <th>State/District</th>\n",
       "      <th>Postal Code</th>\n",
       "    </tr>\n",
       "  </thead>\n",
       "  <tbody>\n",
       "    <tr>\n",
       "      <th>0</th>\n",
       "      <td>Alabama</td>\n",
       "      <td>AL</td>\n",
       "    </tr>\n",
       "  </tbody>\n",
       "</table>\n",
       "</div>"
      ],
      "text/plain": [
       "  State/District Postal Code\n",
       "0        Alabama          AL"
      ]
     },
     "execution_count": 2,
     "metadata": {},
     "output_type": "execute_result"
    }
   ],
   "source": [
    "# assign federal dataset path to variable\n",
    "csv_path = \"geojson/state_code.csv\"\n",
    "\n",
    "# load csv\n",
    "state_codes = pd.read_csv(csv_path, encoding=\"utf8\")\n",
    "state_codes.head(1)"
   ]
  },
  {
   "cell_type": "code",
   "execution_count": 3,
   "metadata": {},
   "outputs": [
    {
     "data": {
      "text/html": [
       "<div>\n",
       "<style scoped>\n",
       "    .dataframe tbody tr th:only-of-type {\n",
       "        vertical-align: middle;\n",
       "    }\n",
       "\n",
       "    .dataframe tbody tr th {\n",
       "        vertical-align: top;\n",
       "    }\n",
       "\n",
       "    .dataframe thead th {\n",
       "        text-align: right;\n",
       "    }\n",
       "</style>\n",
       "<table border=\"1\" class=\"dataframe\">\n",
       "  <thead>\n",
       "    <tr style=\"text-align: right;\">\n",
       "      <th></th>\n",
       "      <th>ID</th>\n",
       "      <th>State_Code</th>\n",
       "      <th>Features_Intersected</th>\n",
       "      <th>Facility_Carried</th>\n",
       "      <th>Lat</th>\n",
       "      <th>Long</th>\n",
       "      <th>Year_Built</th>\n",
       "      <th>Avg_Daily_Traffic</th>\n",
       "      <th>Structure_Kind</th>\n",
       "      <th>Structure_Type</th>\n",
       "      <th>Length</th>\n",
       "      <th>Improvement_Cost</th>\n",
       "      <th>Year_Reconstructed</th>\n",
       "      <th>Deck_Strucutre_Type</th>\n",
       "      <th>Surface_Type</th>\n",
       "      <th>Membrane_Type</th>\n",
       "      <th>Deck_Protection</th>\n",
       "      <th>Percent_Truck_Traffic</th>\n",
       "      <th>Score</th>\n",
       "      <th>Bridge Condition Detail</th>\n",
       "    </tr>\n",
       "  </thead>\n",
       "  <tbody>\n",
       "    <tr>\n",
       "      <th>0</th>\n",
       "      <td>1</td>\n",
       "      <td>Alabama</td>\n",
       "      <td>'           PERDIDO CREEK'</td>\n",
       "      <td>'  IRR BIA RTE 4007'</td>\n",
       "      <td>31.10308333</td>\n",
       "      <td>87.57038889</td>\n",
       "      <td>1999.0</td>\n",
       "      <td>50.0</td>\n",
       "      <td>Prestressed concrete</td>\n",
       "      <td>Box beam or girders - Multiple</td>\n",
       "      <td>15.0</td>\n",
       "      <td>0.0</td>\n",
       "      <td>0.0</td>\n",
       "      <td>Concrete Precast Panels</td>\n",
       "      <td>Bituminous</td>\n",
       "      <td>None</td>\n",
       "      <td>Epoxy Coated Reinforcing</td>\n",
       "      <td>1.0</td>\n",
       "      <td>Good Condition</td>\n",
       "      <td>some minor problems.</td>\n",
       "    </tr>\n",
       "  </tbody>\n",
       "</table>\n",
       "</div>"
      ],
      "text/plain": [
       "   ID State_Code        Features_Intersected      Facility_Carried  \\\n",
       "0   1    Alabama  '           PERDIDO CREEK'  '  IRR BIA RTE 4007'   \n",
       "\n",
       "           Lat         Long  Year_Built  Avg_Daily_Traffic  \\\n",
       "0  31.10308333  87.57038889      1999.0               50.0   \n",
       "\n",
       "         Structure_Kind                  Structure_Type  Length  \\\n",
       "0  Prestressed concrete  Box beam or girders - Multiple    15.0   \n",
       "\n",
       "   Improvement_Cost  Year_Reconstructed      Deck_Strucutre_Type Surface_Type  \\\n",
       "0               0.0                 0.0  Concrete Precast Panels   Bituminous   \n",
       "\n",
       "  Membrane_Type           Deck_Protection  Percent_Truck_Traffic  \\\n",
       "0          None  Epoxy Coated Reinforcing                    1.0   \n",
       "\n",
       "             Score Bridge Condition Detail  \n",
       "0  Good Condition     some minor problems.  "
      ]
     },
     "execution_count": 3,
     "metadata": {},
     "output_type": "execute_result"
    }
   ],
   "source": [
    "state_dictionary = {}\n",
    "\n",
    "for i in range (0, len(state_codes)):\n",
    "    state_dictionary[]"
   ]
  }
 ],
 "metadata": {
  "kernelspec": {
   "display_name": "Python 3",
   "language": "python",
   "name": "python3"
  },
  "language_info": {
   "codemirror_mode": {
    "name": "ipython",
    "version": 3
   },
   "file_extension": ".py",
   "mimetype": "text/x-python",
   "name": "python",
   "nbconvert_exporter": "python",
   "pygments_lexer": "ipython3",
   "version": "3.7.3"
  }
 },
 "nbformat": 4,
 "nbformat_minor": 2
}
