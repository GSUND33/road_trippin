{
 "cells": [
  {
   "cell_type": "code",
   "execution_count": 1,
   "metadata": {},
   "outputs": [],
   "source": [
    "# import dependencies\n",
    "import pandas as pd\n",
    "import requests\n",
    "import io\n",
    "import zipfile"
   ]
  },
  {
   "cell_type": "code",
   "execution_count": 2,
   "metadata": {},
   "outputs": [],
   "source": [
    "# create list of years (1992 to 2018)\n",
    "years = [year for year in range(1992,2019)]"
   ]
  },
  {
   "cell_type": "code",
   "execution_count": 3,
   "metadata": {
    "scrolled": true
   },
   "outputs": [
    {
     "name": "stdout",
     "output_type": "stream",
     "text": [
      "Retrieving Bridge Condition Assessment for 1992...\n",
      "    https://www.fhwa.dot.gov/bridge/nbi/1992hwybronlyonefile.zip\n"
     ]
    }
   ],
   "source": [
    "# initialize dictionary to store yearly bridge condition assessment dataframes\n",
    "dataframe_dict = {}\n",
    "\n",
    "# retrieve yearly bridge condition assessment data\n",
    "# for i in range(0,1):  #use for testing\n",
    "for i in range(len(years)):\n",
    "    \n",
    "    # assign target year to a variable and print message to indicate that request is underway\n",
    "    year = years[i]\n",
    "    print(f'Retrieving Bridge Condition Assessment for {years[i]}...')\n",
    "    \n",
    "    # assign target url for csv file to a variable, and print url for information\n",
    "    url = f'https://www.fhwa.dot.gov/bridge/nbi/{year}hwybronlyonefile.zip'\n",
    "    print(f'    {url}')\n",
    "    \n",
    "    try:\n",
    "        # use requests.get to retrieve information for target year\n",
    "        r = requests.get(url)\n",
    "        \n",
    "        # unzip file and read as csv\n",
    "        zf = zipfile.ZipFile(io.BytesIO(r.content))\n",
    "        df = pd.read_csv(zf.open(zf.namelist()[0]), low_memory=False)\n",
    "          \n",
    "        # assign resulting dataframe as a value/entry in dataframe_dict dictionary with the year as the key\n",
    "        dataframe_dict[year] = df\n",
    "          \n",
    "        # Add a column to the dataframe to identify the country associated with the retrieved chart data\n",
    "        dataframe_dict[year]['Year'] = year\n",
    "    \n",
    "    except:\n",
    "        print('    Error encountered...')"
   ]
  },
  {
   "cell_type": "code",
   "execution_count": 4,
   "metadata": {
    "scrolled": true
   },
   "outputs": [
    {
     "data": {
      "text/plain": [
       "dict_keys([1992])"
      ]
     },
     "execution_count": 4,
     "metadata": {},
     "output_type": "execute_result"
    }
   ],
   "source": [
    "# Generate list of keys (i.e., dataframes of yearly data)\n",
    "dataframe_dict.keys()"
   ]
  },
  {
   "cell_type": "code",
   "execution_count": 5,
   "metadata": {
    "scrolled": true
   },
   "outputs": [
    {
     "ename": "NameError",
     "evalue": "name 'bridge_full' is not defined",
     "output_type": "error",
     "traceback": [
      "\u001b[1;31m---------------------------------------------------------------------------\u001b[0m",
      "\u001b[1;31mNameError\u001b[0m                                 Traceback (most recent call last)",
      "\u001b[1;32m<ipython-input-5-faf9660b8940>\u001b[0m in \u001b[0;36m<module>\u001b[1;34m\u001b[0m\n\u001b[0;32m      5\u001b[0m         \u001b[0mbridge_full\u001b[0m \u001b[1;33m=\u001b[0m \u001b[0mdataframe_dict\u001b[0m\u001b[1;33m[\u001b[0m\u001b[0mkey\u001b[0m\u001b[1;33m]\u001b[0m\u001b[1;33m\u001b[0m\u001b[1;33m\u001b[0m\u001b[0m\n\u001b[0;32m      6\u001b[0m     \u001b[1;32melse\u001b[0m\u001b[1;33m:\u001b[0m\u001b[1;33m\u001b[0m\u001b[1;33m\u001b[0m\u001b[0m\n\u001b[1;32m----> 7\u001b[1;33m         \u001b[0mbridge_full\u001b[0m \u001b[1;33m=\u001b[0m \u001b[0mbridge_full\u001b[0m\u001b[1;33m.\u001b[0m\u001b[0mappend\u001b[0m\u001b[1;33m(\u001b[0m\u001b[0mdataframe_dict\u001b[0m\u001b[1;33m[\u001b[0m\u001b[0mkey\u001b[0m\u001b[1;33m]\u001b[0m\u001b[1;33m)\u001b[0m\u001b[1;33m\u001b[0m\u001b[1;33m\u001b[0m\u001b[0m\n\u001b[0m\u001b[0;32m      8\u001b[0m \u001b[1;33m\u001b[0m\u001b[0m\n\u001b[0;32m      9\u001b[0m \u001b[0mbridge_full\u001b[0m\u001b[1;33m\u001b[0m\u001b[1;33m\u001b[0m\u001b[0m\n",
      "\u001b[1;31mNameError\u001b[0m: name 'bridge_full' is not defined"
     ]
    }
   ],
   "source": [
    "# Consolidate yearly data into one dataframe\n",
    "for key in dataframe_dict:\n",
    "    \n",
    "    if key == 1992:\n",
    "        bridge_full = dataframe_dict[key]\n",
    "    else:\n",
    "        bridge_full = bridge_full.append(dataframe_dict[key])\n",
    "\n",
    "bridge_full"
   ]
  },
  {
   "cell_type": "code",
   "execution_count": null,
   "metadata": {
    "scrolled": true
   },
   "outputs": [],
   "source": [
    "# Save data as csv file \n",
    "bridge_full.to_csv('bridge_assessment_full.csv',index=False)"
   ]
  }
 ],
 "metadata": {
  "kernelspec": {
   "display_name": "Python 3",
   "language": "python",
   "name": "python3"
  },
  "language_info": {
   "codemirror_mode": {
    "name": "ipython",
    "version": 3
   },
   "file_extension": ".py",
   "mimetype": "text/x-python",
   "name": "python",
   "nbconvert_exporter": "python",
   "pygments_lexer": "ipython3",
   "version": "3.7.3"
  }
 },
 "nbformat": 4,
 "nbformat_minor": 2
}
