{
 "cells": [
  {
   "cell_type": "code",
   "execution_count": 1,
   "metadata": {},
   "outputs": [],
   "source": [
    "# Import dependencies\n",
    "import pandas as pd\n",
    "import requests\n",
    "import io"
   ]
  },
  {
   "cell_type": "code",
   "execution_count": 2,
   "metadata": {},
   "outputs": [],
   "source": [
    "# create list of years (1996 to 2017)\n",
    "years = [year for year in range(1996,2017)]"
   ]
  },
  {
   "cell_type": "code",
   "execution_count": 3,
   "metadata": {
    "scrolled": true
   },
   "outputs": [
    {
     "name": "stdout",
     "output_type": "stream",
     "text": [
      "Retrieving state spending for 1996...\n",
      "    https://www2.census.gov/programs-surveys/state/tables/1996/historical-tables/1996_ASFIN_State_Totals.xlsx\n",
      "    Error encountered...\n"
     ]
    }
   ],
   "source": [
    "# Initialize dictionary to store dataframes with information on top 200 songs for various countries\n",
    "dataframe_dict = {}\n",
    "\n",
    "# retrieve yearly state expenditures\n",
    "for i in range(0,1):  #use for testing\n",
    "# for i in range(len(years)):\n",
    "    \n",
    "    # assign target year to a variable and print message to indicate that request is underway\n",
    "    year = years[i]\n",
    "    print(f\"Retrieving state spending for {years[i]}...\")\n",
    "    \n",
    "    # assign target url for csv file to a variable, and print url for information\n",
    "    url = f'https://www2.census.gov/programs-surveys/state/tables/{year}/historical-tables/{year}_ASFIN_State_Totals.xlsx'\n",
    "    print(f'    {url}')\n",
    "    \n",
    "    # Use requests.get to retrieve information from target csv\n",
    "    r = requests.get(url)\n",
    "    \n",
    "    try:\n",
    "          # Use 'utf-8' to allow for proper interpretation of retrieved data\n",
    "          data = r.content.decode('utf-8')\n",
    "          \n",
    "          # Read and assign retrieved data to a dataframe\n",
    "          chart = pd.read_csv(io.StringIO(data))\n",
    "          \n",
    "          # Assign resulting dataframe as an value/entry in dataframe_dict dictionary with the country name as the key\n",
    "          dataframe_dict[year] = df\n",
    "                    \n",
    "          # Add a column to the dataframe to identify the country associated with the retrieved chart data\n",
    "          dataframe_dict[year]['Year'] = year\n",
    "    \n",
    "    except:\n",
    "          print('    Error encountered...')"
   ]
  },
  {
   "cell_type": "code",
   "execution_count": null,
   "metadata": {
    "scrolled": true
   },
   "outputs": [],
   "source": [
    "# Generate list of keys (i.e., dataframes of top 200 chart information for various countries)\n",
    "dataframe_dict.keys()"
   ]
  },
  {
   "cell_type": "code",
   "execution_count": null,
   "metadata": {
    "scrolled": true
   },
   "outputs": [],
   "source": [
    "# Consolidate top 200 chart information from various countries into one dataframe\n",
    "for key in dataframe_dict:\n",
    "    \n",
    "    if key == 'United States':\n",
    "        spotify_charts = dataframe_dict[key]\n",
    "    else:\n",
    "        spotify_charts = spotify_charts.append(dataframe_dict[key])\n",
    "\n",
    "spotify_charts"
   ]
  },
  {
   "cell_type": "code",
   "execution_count": null,
   "metadata": {
    "scrolled": true
   },
   "outputs": [],
   "source": [
    "# Save data as csv file \n",
    "spotify_charts.to_csv('spotify_charts.csv',index=False)"
   ]
  }
 ],
 "metadata": {
  "kernelspec": {
   "display_name": "Python 3",
   "language": "python",
   "name": "python3"
  },
  "language_info": {
   "codemirror_mode": {
    "name": "ipython",
    "version": 3
   },
   "file_extension": ".py",
   "mimetype": "text/x-python",
   "name": "python",
   "nbconvert_exporter": "python",
   "pygments_lexer": "ipython3",
   "version": "3.7.3"
  }
 },
 "nbformat": 4,
 "nbformat_minor": 2
}
