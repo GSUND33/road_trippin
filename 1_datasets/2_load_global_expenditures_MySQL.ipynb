{
 "cells": [
  {
   "cell_type": "code",
   "execution_count": 1,
   "metadata": {},
   "outputs": [],
   "source": [
    "# !pip install sqlalchemy\n",
    "# !pip install pymysql"
   ]
  },
  {
   "cell_type": "code",
   "execution_count": 2,
   "metadata": {},
   "outputs": [],
   "source": [
    "# SQL Alchemy\n",
    "from sqlalchemy import create_engine\n",
    "\n",
    "# PyMySQL \n",
    "import pymysql\n",
    "pymysql.install_as_MySQLdb()\n",
    "\n",
    "# Config variables\n",
    "from config import dbuser, dbpwd, dbhost, dbport, dbname\n",
    "\n",
    "# Import Pandas\n",
    "import pandas as pd"
   ]
  },
  {
   "cell_type": "code",
   "execution_count": 3,
   "metadata": {},
   "outputs": [],
   "source": [
    "# Cloud MySQL Database Connection on AWS\n",
    "engine = create_engine(f\"mysql://{dbuser}:{dbpwd}@{dbhost}:{dbport}/{dbname}\")"
   ]
  },
  {
   "cell_type": "code",
   "execution_count": 4,
   "metadata": {},
   "outputs": [],
   "source": [
    "# Create a remote database engine connection\n",
    "conn = engine.connect()"
   ]
  },
  {
   "cell_type": "code",
   "execution_count": 5,
   "metadata": {
    "scrolled": true
   },
   "outputs": [
    {
     "data": {
      "text/html": [
       "<div>\n",
       "<style scoped>\n",
       "    .dataframe tbody tr th:only-of-type {\n",
       "        vertical-align: middle;\n",
       "    }\n",
       "\n",
       "    .dataframe tbody tr th {\n",
       "        vertical-align: top;\n",
       "    }\n",
       "\n",
       "    .dataframe thead th {\n",
       "        text-align: right;\n",
       "    }\n",
       "</style>\n",
       "<table border=\"1\" class=\"dataframe\">\n",
       "  <thead>\n",
       "    <tr style=\"text-align: right;\">\n",
       "      <th></th>\n",
       "      <th>Country</th>\n",
       "      <th>Investment Amount</th>\n",
       "      <th>Investment Type</th>\n",
       "      <th>Measure</th>\n",
       "      <th>Population</th>\n",
       "      <th>Year</th>\n",
       "      <th>GDP per Capita</th>\n",
       "    </tr>\n",
       "  </thead>\n",
       "  <tbody>\n",
       "    <tr>\n",
       "      <th>0</th>\n",
       "      <td>Australia</td>\n",
       "      <td>4.957820e+09</td>\n",
       "      <td>Road infrastructure investment</td>\n",
       "      <td>Constant Euro</td>\n",
       "      <td>18005000.0</td>\n",
       "      <td>1995</td>\n",
       "      <td>275.357935</td>\n",
       "    </tr>\n",
       "    <tr>\n",
       "      <th>1</th>\n",
       "      <td>Australia</td>\n",
       "      <td>5.505514e+09</td>\n",
       "      <td>Road infrastructure investment</td>\n",
       "      <td>Constant Euro</td>\n",
       "      <td>18225000.0</td>\n",
       "      <td>1996</td>\n",
       "      <td>302.085817</td>\n",
       "    </tr>\n",
       "    <tr>\n",
       "      <th>2</th>\n",
       "      <td>Australia</td>\n",
       "      <td>5.854421e+09</td>\n",
       "      <td>Road infrastructure investment</td>\n",
       "      <td>Constant Euro</td>\n",
       "      <td>18423000.0</td>\n",
       "      <td>1997</td>\n",
       "      <td>317.777809</td>\n",
       "    </tr>\n",
       "    <tr>\n",
       "      <th>3</th>\n",
       "      <td>Australia</td>\n",
       "      <td>7.149711e+09</td>\n",
       "      <td>Road infrastructure investment</td>\n",
       "      <td>Constant Euro</td>\n",
       "      <td>18608000.0</td>\n",
       "      <td>1998</td>\n",
       "      <td>384.227791</td>\n",
       "    </tr>\n",
       "    <tr>\n",
       "      <th>4</th>\n",
       "      <td>Australia</td>\n",
       "      <td>7.104844e+09</td>\n",
       "      <td>Road infrastructure investment</td>\n",
       "      <td>Constant Euro</td>\n",
       "      <td>18812000.0</td>\n",
       "      <td>1999</td>\n",
       "      <td>377.676183</td>\n",
       "    </tr>\n",
       "  </tbody>\n",
       "</table>\n",
       "</div>"
      ],
      "text/plain": [
       "     Country  Investment Amount                 Investment Type  \\\n",
       "0  Australia       4.957820e+09  Road infrastructure investment   \n",
       "1  Australia       5.505514e+09  Road infrastructure investment   \n",
       "2  Australia       5.854421e+09  Road infrastructure investment   \n",
       "3  Australia       7.149711e+09  Road infrastructure investment   \n",
       "4  Australia       7.104844e+09  Road infrastructure investment   \n",
       "\n",
       "         Measure  Population  Year  GDP per Capita  \n",
       "0  Constant Euro  18005000.0  1995      275.357935  \n",
       "1  Constant Euro  18225000.0  1996      302.085817  \n",
       "2  Constant Euro  18423000.0  1997      317.777809  \n",
       "3  Constant Euro  18608000.0  1998      384.227791  \n",
       "4  Constant Euro  18812000.0  1999      377.676183  "
      ]
     },
     "execution_count": 5,
     "metadata": {},
     "output_type": "execute_result"
    }
   ],
   "source": [
    "csv_data = pd.read_csv('expenditures/international/oecd_per_capita_spending.csv')\n",
    "csv_data = csv_data.set_index(\"Unnamed: 0\")\n",
    "del csv_data.index.name\n",
    "csv_data.head()"
   ]
  },
  {
   "cell_type": "code",
   "execution_count": 6,
   "metadata": {},
   "outputs": [],
   "source": [
    "csv_data.to_sql(name='spending_oecd', if_exists='append', con=conn, chunksize=500, index=False)"
   ]
  }
 ],
 "metadata": {
  "kernelspec": {
   "display_name": "Python 3",
   "language": "python",
   "name": "python3"
  },
  "language_info": {
   "codemirror_mode": {
    "name": "ipython",
    "version": 3
   },
   "file_extension": ".py",
   "mimetype": "text/x-python",
   "name": "python",
   "nbconvert_exporter": "python",
   "pygments_lexer": "ipython3",
   "version": "3.7.3"
  }
 },
 "nbformat": 4,
 "nbformat_minor": 2
}
