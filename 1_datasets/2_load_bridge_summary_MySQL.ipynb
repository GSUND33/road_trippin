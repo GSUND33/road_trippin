{
 "cells": [
  {
   "cell_type": "code",
   "execution_count": 1,
   "metadata": {},
   "outputs": [],
   "source": [
    "# !pip install sqlalchemy\n",
    "# !pip install pymysql"
   ]
  },
  {
   "cell_type": "code",
   "execution_count": 1,
   "metadata": {},
   "outputs": [],
   "source": [
    "# SQL Alchemy\n",
    "from sqlalchemy import create_engine\n",
    "\n",
    "# PyMySQL \n",
    "import pymysql\n",
    "pymysql.install_as_MySQLdb()\n",
    "\n",
    "# Config variables\n",
    "import sys\n",
    "sys.path.append('..')\n",
    "from config import remote_gwsis_dbuser, remote_gwsis_dbpwd, remote_db_host, remote_db_port, remote_gwsis_dbname\n",
    "\n",
    "# Import Pandas\n",
    "import pandas as pd"
   ]
  },
  {
   "cell_type": "code",
   "execution_count": 2,
   "metadata": {},
   "outputs": [],
   "source": [
    "# Cloud MySQL Database Connection on AWS\n",
    "engine = create_engine(f\"mysql://{remote_gwsis_dbuser}:{remote_gwsis_dbpwd}@{remote_db_host}:{remote_db_port}/{remote_gwsis_dbname}\")"
   ]
  },
  {
   "cell_type": "code",
   "execution_count": 3,
   "metadata": {},
   "outputs": [],
   "source": [
    "# Create a remote database engine connection\n",
    "conn = engine.connect()"
   ]
  },
  {
   "cell_type": "code",
   "execution_count": 4,
   "metadata": {},
   "outputs": [
    {
     "data": {
      "text/html": [
       "<div>\n",
       "<style scoped>\n",
       "    .dataframe tbody tr th:only-of-type {\n",
       "        vertical-align: middle;\n",
       "    }\n",
       "\n",
       "    .dataframe tbody tr th {\n",
       "        vertical-align: top;\n",
       "    }\n",
       "\n",
       "    .dataframe thead th {\n",
       "        text-align: right;\n",
       "    }\n",
       "</style>\n",
       "<table border=\"1\" class=\"dataframe\">\n",
       "  <thead>\n",
       "    <tr style=\"text-align: right;\">\n",
       "      <th></th>\n",
       "      <th>State/District</th>\n",
       "      <th>Postal Code</th>\n",
       "    </tr>\n",
       "  </thead>\n",
       "  <tbody>\n",
       "    <tr>\n",
       "      <th>0</th>\n",
       "      <td>Alabama</td>\n",
       "      <td>AL</td>\n",
       "    </tr>\n",
       "    <tr>\n",
       "      <th>1</th>\n",
       "      <td>Alaska</td>\n",
       "      <td>AK</td>\n",
       "    </tr>\n",
       "    <tr>\n",
       "      <th>2</th>\n",
       "      <td>Arizona</td>\n",
       "      <td>AZ</td>\n",
       "    </tr>\n",
       "    <tr>\n",
       "      <th>3</th>\n",
       "      <td>Arkansas</td>\n",
       "      <td>AR</td>\n",
       "    </tr>\n",
       "    <tr>\n",
       "      <th>4</th>\n",
       "      <td>California</td>\n",
       "      <td>CA</td>\n",
       "    </tr>\n",
       "  </tbody>\n",
       "</table>\n",
       "</div>"
      ],
      "text/plain": [
       "  State/District Postal Code\n",
       "0        Alabama          AL\n",
       "1         Alaska          AK\n",
       "2        Arizona          AZ\n",
       "3       Arkansas          AR\n",
       "4     California          CA"
      ]
     },
     "execution_count": 4,
     "metadata": {},
     "output_type": "execute_result"
    }
   ],
   "source": [
    "csv_data = pd.read_csv('geojson/state_code.csv')\n",
    "\n",
    "csv_data[\"State/District\"] = \n",
    "\n",
    "\n",
    "csv_data.head()"
   ]
  },
  {
   "cell_type": "code",
   "execution_count": 5,
   "metadata": {
    "scrolled": true
   },
   "outputs": [
    {
     "data": {
      "text/html": [
       "<div>\n",
       "<style scoped>\n",
       "    .dataframe tbody tr th:only-of-type {\n",
       "        vertical-align: middle;\n",
       "    }\n",
       "\n",
       "    .dataframe tbody tr th {\n",
       "        vertical-align: top;\n",
       "    }\n",
       "\n",
       "    .dataframe thead th {\n",
       "        text-align: right;\n",
       "    }\n",
       "</style>\n",
       "<table border=\"1\" class=\"dataframe\">\n",
       "  <thead>\n",
       "    <tr style=\"text-align: right;\">\n",
       "      <th></th>\n",
       "      <th>ID</th>\n",
       "      <th>Year</th>\n",
       "      <th>State</th>\n",
       "      <th>Count_All</th>\n",
       "      <th>Count_Good</th>\n",
       "      <th>Count_Fair</th>\n",
       "      <th>Count_Poor</th>\n",
       "      <th>Area_All</th>\n",
       "      <th>Area_Good</th>\n",
       "      <th>Area_Fair</th>\n",
       "      <th>Area_Poor</th>\n",
       "    </tr>\n",
       "  </thead>\n",
       "  <tbody>\n",
       "    <tr>\n",
       "      <th>0</th>\n",
       "      <td>1</td>\n",
       "      <td>2009</td>\n",
       "      <td>ALABAMA</td>\n",
       "      <td>15959</td>\n",
       "      <td>7637</td>\n",
       "      <td>7384</td>\n",
       "      <td>934</td>\n",
       "      <td>9176079</td>\n",
       "      <td>3991613</td>\n",
       "      <td>4892783</td>\n",
       "      <td>290431</td>\n",
       "    </tr>\n",
       "    <tr>\n",
       "      <th>1</th>\n",
       "      <td>2</td>\n",
       "      <td>2009</td>\n",
       "      <td>ALASKA</td>\n",
       "      <td>1151</td>\n",
       "      <td>518</td>\n",
       "      <td>496</td>\n",
       "      <td>135</td>\n",
       "      <td>657173</td>\n",
       "      <td>284249</td>\n",
       "      <td>314174</td>\n",
       "      <td>58564</td>\n",
       "    </tr>\n",
       "    <tr>\n",
       "      <th>2</th>\n",
       "      <td>3</td>\n",
       "      <td>2009</td>\n",
       "      <td>ARIZONA</td>\n",
       "      <td>7494</td>\n",
       "      <td>5274</td>\n",
       "      <td>2030</td>\n",
       "      <td>189</td>\n",
       "      <td>4685761</td>\n",
       "      <td>2826369</td>\n",
       "      <td>1697404</td>\n",
       "      <td>161735</td>\n",
       "    </tr>\n",
       "    <tr>\n",
       "      <th>3</th>\n",
       "      <td>4</td>\n",
       "      <td>2009</td>\n",
       "      <td>ARKANSAS</td>\n",
       "      <td>12560</td>\n",
       "      <td>7113</td>\n",
       "      <td>4809</td>\n",
       "      <td>638</td>\n",
       "      <td>5927762</td>\n",
       "      <td>3211634</td>\n",
       "      <td>2353584</td>\n",
       "      <td>362545</td>\n",
       "    </tr>\n",
       "    <tr>\n",
       "      <th>4</th>\n",
       "      <td>5</td>\n",
       "      <td>2009</td>\n",
       "      <td>CALIFORNIA</td>\n",
       "      <td>24463</td>\n",
       "      <td>10275</td>\n",
       "      <td>10833</td>\n",
       "      <td>3258</td>\n",
       "      <td>27743006</td>\n",
       "      <td>8596833</td>\n",
       "      <td>13556904</td>\n",
       "      <td>5550592</td>\n",
       "    </tr>\n",
       "  </tbody>\n",
       "</table>\n",
       "</div>"
      ],
      "text/plain": [
       "   ID  Year       State  Count_All  Count_Good  Count_Fair  Count_Poor  \\\n",
       "0   1  2009     ALABAMA      15959        7637        7384         934   \n",
       "1   2  2009      ALASKA       1151         518         496         135   \n",
       "2   3  2009     ARIZONA       7494        5274        2030         189   \n",
       "3   4  2009    ARKANSAS      12560        7113        4809         638   \n",
       "4   5  2009  CALIFORNIA      24463       10275       10833        3258   \n",
       "\n",
       "   Area_All  Area_Good  Area_Fair  Area_Poor  \n",
       "0   9176079    3991613    4892783     290431  \n",
       "1    657173     284249     314174      58564  \n",
       "2   4685761    2826369    1697404     161735  \n",
       "3   5927762    3211634    2353584     362545  \n",
       "4  27743006    8596833   13556904    5550592  "
      ]
     },
     "execution_count": 5,
     "metadata": {},
     "output_type": "execute_result"
    }
   ],
   "source": [
    "csv_data = pd.read_csv('bridge/condition_by-hwy-sys_all.csv')\n",
    "csv_data.head()"
   ]
  },
  {
   "cell_type": "code",
   "execution_count": null,
   "metadata": {},
   "outputs": [],
   "source": []
  },
  {
   "cell_type": "code",
   "execution_count": 6,
   "metadata": {},
   "outputs": [],
   "source": [
    "csv_data.to_sql(name='estimate_bridge_cost_2018dollars', if_exists='replace', con=conn, chunksize=500, index=False)"
   ]
  }
 ],
 "metadata": {
  "kernelspec": {
   "display_name": "Python 3",
   "language": "python",
   "name": "python3"
  },
  "language_info": {
   "codemirror_mode": {
    "name": "ipython",
    "version": 3
   },
   "file_extension": ".py",
   "mimetype": "text/x-python",
   "name": "python",
   "nbconvert_exporter": "python",
   "pygments_lexer": "ipython3",
   "version": "3.7.3"
  }
 },
 "nbformat": 4,
 "nbformat_minor": 2
}
